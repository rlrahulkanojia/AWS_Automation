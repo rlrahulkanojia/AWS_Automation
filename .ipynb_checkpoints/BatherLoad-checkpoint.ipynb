{
 "cells": [
  {
   "cell_type": "code",
   "execution_count": 1,
   "id": "1009c17b",
   "metadata": {
    "ExecuteTime": {
     "end_time": "2022-03-21T08:26:15.678388Z",
     "start_time": "2022-03-21T08:26:08.954238Z"
    },
    "code_folding": [
     0
    ]
   },
   "outputs": [],
   "source": [
    "# Imports\n",
    "import os\n",
    "import re\n",
    "import cv2\n",
    "import json\n",
    "import argparse\n",
    "import numpy as np\n",
    "import pandas as pd\n",
    "import matplotlib.pyplot as plt"
   ]
  },
  {
   "cell_type": "code",
   "execution_count": 81,
   "id": "ad2cfe46",
   "metadata": {
    "ExecuteTime": {
     "end_time": "2022-03-21T09:28:10.002435Z",
     "start_time": "2022-03-21T09:28:09.982837Z"
    },
    "code_folding": [
     0
    ]
   },
   "outputs": [],
   "source": [
    "# Config\n",
    "cnn_color     =  (0,255,0)\n",
    "opencv_color  =  (0,0,255)   \n",
    "tracker_color =  (255,0,0)\n",
    "HRATIO        =  1#frame.shape[0] / HEIGHT\n",
    "WRATIO        =  1#frame.shape[1] / WIDTH\n",
    "fourcc        =  cv2.VideoWriter_fourcc(*'XVID')\n",
    "\n",
    "# parser = argparse.ArgumentParser()\n",
    "# parser.add_argument(\"--name\")\n",
    "# value = parser.parse_args()\n",
    "\n",
    "\n",
    "# name = files.split('.')[0]\n",
    "name = \"00b5a2d0-8574-4ae7-9147-fb64f085c295\"\n",
    "video_path = 'input/'+name+'.mp4'\n",
    "json_path  = 'jsons/'+name+'.json'\n",
    "\n",
    "f = open(json_path).readlines()\n",
    "data = json.loads('{'+ f[0][10:-2])\n",
    "# data = json.load(f)\n",
    "new_df = pd.DataFrame(columns=['FRAME_COUNT', 'OPEN_BOX', 'CNN_BOX','Vertical', 'SPEED', 'POSE', 'SUI', 'SPLASH', 'ACTIND', 'TBBOX', 'ALARM'])\n",
    "\n"
   ]
  },
  {
   "cell_type": "code",
   "execution_count": 82,
   "id": "8abc6541",
   "metadata": {
    "ExecuteTime": {
     "end_time": "2022-03-21T09:28:11.661467Z",
     "start_time": "2022-03-21T09:28:11.626663Z"
    }
   },
   "outputs": [
    {
     "name": "stdout",
     "output_type": "stream",
     "text": [
      "Video Name :  ['https://camerye-cloudserver.s3-us-west-2.amazonaws.com/assets/48:b0:2d:2f:ca:a5/events/9947236.mp4']\n"
     ]
    }
   ],
   "source": [
    "df = pd.read_csv('test.csv')\n",
    "tt = df[0:1]['Additional Info'].values[0]\n",
    "print(\"Video Name : \", df[0:1]['Video Link'].values)"
   ]
  },
  {
   "cell_type": "code",
   "execution_count": 80,
   "id": "08a8433c",
   "metadata": {
    "ExecuteTime": {
     "end_time": "2022-03-21T09:28:06.859686Z",
     "start_time": "2022-03-21T09:28:06.847902Z"
    }
   },
   "outputs": [],
   "source": [
    "# !wget https://camerye-cloudserver.s3-us-west-2.amazonaws.com/assets/48:b0:2d:2f:ca:a5/events/9947236.mp4"
   ]
  },
  {
   "cell_type": "code",
   "execution_count": 83,
   "id": "7ee8b848",
   "metadata": {
    "ExecuteTime": {
     "end_time": "2022-03-21T09:28:14.723748Z",
     "start_time": "2022-03-21T09:28:14.714363Z"
    }
   },
   "outputs": [],
   "source": [
    "data = json.loads('{'+ [tt][0][10:-2]) "
   ]
  },
  {
   "cell_type": "code",
   "execution_count": 84,
   "id": "debf9539",
   "metadata": {
    "ExecuteTime": {
     "end_time": "2022-03-21T09:28:17.469540Z",
     "start_time": "2022-03-21T09:28:15.105461Z"
    },
    "code_folding": []
   },
   "outputs": [],
   "source": [
    "ind = 0\n",
    "for key in data.keys():\n",
    "    D = data[key]\n",
    "    T = json.loads(D['TRACKERS_DATA'])\n",
    "    for key in list(T.keys()):\n",
    "        T = json.loads(D['TRACKERS_DATA'])[key]\n",
    "        new_df.loc[ind] = [str(D['FRAME_COUNT'])] +  [str(D['OPEN_BOX'])] + [str( D['CNN_BOX'])] + [str(T['VERTICAL'])] + [str(T['SPEED'])] + [str(T['POSE'])] + \\\n",
    "                        [str(T['SUI'])] + [str(T['SPLASH'])] + [str(T['ACTIND'])] + [str(T['BBOX'])] + [str(T['ALARM'])]\n",
    "\n",
    "        ind += 1\n",
    "    if len(T.keys())==0:\n",
    "        new_df.loc[ind] = [str(D['FRAME_COUNT'])] +  [str(D['OPEN_BOX'])] + [str( D['CNN_BOX'])]\\\n",
    "                        + [\"\"] + [\"\"] +  [\"\"]  +  [\"\"] + [\"\"] + [\"\"] + [\"\"]+ [\"\"]\n",
    "        ind += 1\n",
    "        \n",
    "del ind"
   ]
  },
  {
   "cell_type": "code",
   "execution_count": 85,
   "id": "3c09e700",
   "metadata": {
    "ExecuteTime": {
     "end_time": "2022-03-21T09:28:17.609175Z",
     "start_time": "2022-03-21T09:28:17.508010Z"
    }
   },
   "outputs": [],
   "source": [
    "THRESHOLD = 100\n",
    "new_df['Vertical'] = pd.to_numeric(new_df['Vertical']).clip(upper=THRESHOLD)\n",
    "new_df['SPEED']    = pd.to_numeric(new_df['SPEED']).clip(upper=THRESHOLD)\n",
    "new_df['POSE_50']  = pd.to_numeric(new_df['POSE']) * 50 \n",
    "new_df['SUI_50']   = pd.to_numeric(new_df['SUI']) * 50\n",
    "new_df['SPLASH']   = pd.to_numeric(new_df['SPLASH']).clip(upper=THRESHOLD)\n",
    "new_df['ACTIND']   = pd.to_numeric(new_df['ACTIND']).clip(upper=THRESHOLD)"
   ]
  },
  {
   "cell_type": "code",
   "execution_count": 86,
   "id": "5334f9e5",
   "metadata": {
    "ExecuteTime": {
     "end_time": "2022-03-21T09:28:20.014327Z",
     "start_time": "2022-03-21T09:28:20.006439Z"
    }
   },
   "outputs": [],
   "source": [
    "new_df = new_df.reset_index()"
   ]
  },
  {
   "cell_type": "code",
   "execution_count": 57,
   "id": "2d21f181",
   "metadata": {
    "ExecuteTime": {
     "end_time": "2022-03-21T09:10:53.100463Z",
     "start_time": "2022-03-21T09:10:53.096725Z"
    }
   },
   "outputs": [],
   "source": [
    "# new_df[100:200]"
   ]
  },
  {
   "cell_type": "code",
   "execution_count": 87,
   "id": "561218df",
   "metadata": {
    "ExecuteTime": {
     "end_time": "2022-03-21T09:28:34.018762Z",
     "start_time": "2022-03-21T09:28:33.849733Z"
    }
   },
   "outputs": [],
   "source": [
    "rm  AnalysisOutput/*.mp4"
   ]
  },
  {
   "cell_type": "code",
   "execution_count": 88,
   "id": "61acf7da",
   "metadata": {
    "ExecuteTime": {
     "end_time": "2022-03-21T09:28:39.145460Z",
     "start_time": "2022-03-21T09:28:35.751887Z"
    },
    "code_folding": [
     27
    ]
   },
   "outputs": [
    {
     "name": "stderr",
     "output_type": "stream",
     "text": [
      "OpenCV: FFMPEG: tag 0x44495658/'XVID' is not supported with codec id 12 and format 'mp4 / MP4 (MPEG-4 Part 14)'\n",
      "OpenCV: FFMPEG: fallback to use tag 0x7634706d/'mp4v'\n"
     ]
    },
    {
     "name": "stdout",
     "output_type": "stream",
     "text": [
      "ERROR  single positional indexer is out-of-bounds\n"
     ]
    }
   ],
   "source": [
    "video = cv2.VideoCapture('9947236.mp4')\n",
    "analysis_feed  = cv2.VideoWriter(\"AnalysisOutput/9947236.mp4\",fourcc, 5, (1280,720))\n",
    "FRAME_COUNT = 0\n",
    "try:\n",
    "    while video.isOpened():\n",
    "        FRAME_COUNT += 1\n",
    "        ret_val, frame = video.read()\n",
    "        centroid = None\n",
    "        ## TRACKER \n",
    "        arr = new_df.iloc[FRAME_COUNT, 10]\n",
    "        NO_OF_TRACKER = 0\n",
    "        if len(arr)>3:\n",
    "            temp = re.findall(r'\\d+', arr)\n",
    "            temp = [t for t in temp if len(t)<=4]\n",
    "            temp = list(map(int, temp))\n",
    "            NO_OF_TRACKER = len(temp)//4\n",
    "            for ind in range(len(temp)//4):\n",
    "                ind         = ind * 4\n",
    "                bbox        = temp[ind] , temp[ind+1] , temp[ind+2] , temp[ind+3] \n",
    "                start_point = ( int(bbox[0]*WRATIO ) , int(bbox[1] * HRATIO)  )\n",
    "                end_point   = (int(bbox[2]*WRATIO), int(bbox[3]* HRATIO ) )\n",
    "                image       = cv2.rectangle(frame, start_point, end_point, tracker_color, 1)\n",
    "                centroid    = ( int(bbox[0] +(bbox[2]-bbox[0])/2), int(bbox[1] + (bbox[3]-bbox[1])/2))\n",
    "                centroid    = (int(centroid[0] * HRATIO) , int(centroid[1] * WRATIO))\n",
    "                frame       = cv2.circle(frame, centroid, 5, tracker_color, 2)\n",
    "\n",
    "\n",
    "        cv2.putText(frame,\"No of person: \" + str(NO_OF_TRACKER), (50,150), cv2.FONT_HERSHEY_SIMPLEX, 1,(0,0,255),1,1)\n",
    "        analysis_feed.write(frame)\n",
    "\n",
    "except Exception as e:\n",
    "    print(\"ERROR \", e)\n",
    "    analysis_feed.release()\n",
    "analysis_feed.release()\n",
    "\n"
   ]
  },
  {
   "cell_type": "code",
   "execution_count": null,
   "id": "0bd49f3a",
   "metadata": {},
   "outputs": [],
   "source": []
  },
  {
   "cell_type": "code",
   "execution_count": null,
   "id": "e7fe5888",
   "metadata": {},
   "outputs": [],
   "source": []
  }
 ],
 "metadata": {
  "kernelspec": {
   "display_name": "Python 3 (ipykernel)",
   "language": "python",
   "name": "python3"
  },
  "language_info": {
   "codemirror_mode": {
    "name": "ipython",
    "version": 3
   },
   "file_extension": ".py",
   "mimetype": "text/x-python",
   "name": "python",
   "nbconvert_exporter": "python",
   "pygments_lexer": "ipython3",
   "version": "3.7.11"
  }
 },
 "nbformat": 4,
 "nbformat_minor": 5
}
