{
 "cells": [
  {
   "cell_type": "code",
   "execution_count": 1,
   "id": "0cd306ae",
   "metadata": {
    "ExecuteTime": {
     "end_time": "2022-05-28T06:43:32.665996Z",
     "start_time": "2022-05-28T06:43:31.337082Z"
    },
    "code_folding": [
     0
    ]
   },
   "outputs": [],
   "source": [
    "#imports\n",
    "import os\n",
    "import re\n",
    "import cv2\n",
    "import json\n",
    "import argparse\n",
    "import traceback\n",
    "import numpy as np\n",
    "from tqdm import tqdm\n",
    "import pandas as pd\n",
    "import matplotlib.pyplot as plt\n",
    "from config import CONFIG"
   ]
  },
  {
   "cell_type": "code",
   "execution_count": 2,
   "id": "308b6032",
   "metadata": {
    "ExecuteTime": {
     "end_time": "2022-05-28T06:43:32.896811Z",
     "start_time": "2022-05-28T06:43:32.890565Z"
    }
   },
   "outputs": [],
   "source": [
    "name = \"00b5a2d0-8574-4ae7-9147-fb64f085c295\""
   ]
  },
  {
   "cell_type": "code",
   "execution_count": 3,
   "id": "822179ae",
   "metadata": {
    "code_folding": [
     0,
     1,
     17,
     27,
     69,
     86,
     102,
     127,
     134
    ]
   },
   "outputs": [],
   "source": [
    "class Analytics:\n",
    "    def __init__(self, name, mode=1):\n",
    "        self.name           = name\n",
    "        self.data           = None\n",
    "        self.new_df         = None\n",
    "        self.video          = cv2.VideoCapture('../input/' + self.name+'.mp4')\n",
    "        fourcc              =  cv2.VideoWriter_fourcc(*'mp4v')\n",
    "        _, frame = self.video.read()\n",
    "        self.video          = cv2.VideoCapture('../input/' + self.name+'.mp4')\n",
    "        if self.video.isOpened() == False:\n",
    "            print(\"Invalid Video\")\n",
    "        else:\n",
    "            print(\"Video opened sucessfully..\")\n",
    "        self.analysis_feed  = cv2.VideoWriter(\"output/\"+ name+ \".mp4\",fourcc, 5, (frame.shape[1],frame.shape[0]*2))\n",
    "        self.FRAME_COUNT    = 0\n",
    "        self.mode = mode\n",
    "        \n",
    "    def get_data(self):\n",
    "        if self.mode == 1:\n",
    "            json_path  = CONFIG.JSON_PATH  + self.name+'.json'\n",
    "            f = open(json_path).readlines()\n",
    "            data = json.loads('{'+ f[0][10:-2])\n",
    "            self.data = data\n",
    "        elif self.mode == 2:\n",
    "            with open('/Users/rahulkanojia/Desktop/292b0804-fed5-472d-b26c-6c19ebae3a6f_analytics.json', 'r') as f:\n",
    "                self.data = json.load(f)\n",
    "                 \n",
    "    def create_df(self):\n",
    "\n",
    "        new_df = pd.DataFrame(columns=['FRAME_COUNT', 'OPEN_BOX', 'CNN_BOX','Vertical', 'SPEED', 'POSE', 'SUI', 'SPLASH', 'ACTIND', 'TBBOX', 'ALARM'])\n",
    "        ind = 0\n",
    "        for key in self.data.keys():\n",
    "            D = self.data[key]\n",
    "            T = json.loads(D['TRACKERS_DATA'])\n",
    "            for key in list(T.keys()):\n",
    "                T = json.loads(D['TRACKERS_DATA'])[key]\n",
    "                new_df.loc[ind] = [str(D['FRAME_COUNT'])] +  [str(D['OPEN_BOX'])] + [str( D['CNN_BOX'])] + [str(T['VERTICAL'])] + [str(T['SPEED'])] + [str(T['POSE'])] + \\\n",
    "                                [str(T['SUI'])] + [str(T['SPLASH'])] + [str(T['ACTIND'])] + [str(T['BBOX'])] + [str(T['ALARM'])]\n",
    "\n",
    "                ind += 1\n",
    "            if len(T.keys())==0:\n",
    "                new_df.loc[ind] = [str(D['FRAME_COUNT'])] +  [str(D['OPEN_BOX'])] + [str( D['CNN_BOX'])]\\\n",
    "                                + [\"\"] + [\"\"] +  [\"\"]  +  [\"\"] + [\"\"] + [\"\"] + [\"\"]+ [\"\"]\n",
    "                ind += 1\n",
    "\n",
    "        del ind\n",
    "\n",
    "        THRESHOLD = 100\n",
    "\n",
    "        new_df['Vertical'] = pd.to_numeric(new_df['Vertical']).clip(upper=THRESHOLD)\n",
    "        new_df['SPEED']    = pd.to_numeric(new_df['SPEED']).clip(upper=THRESHOLD)\n",
    "        new_df['POSE_50']  = pd.to_numeric(new_df['POSE']) * 50 \n",
    "        new_df['SUI_50']   = pd.to_numeric(new_df['SUI']) * 50\n",
    "        new_df['SPLASH']   = pd.to_numeric(new_df['SPLASH']).clip(upper=THRESHOLD)\n",
    "        new_df['ACTIND']   = pd.to_numeric(new_df['ACTIND']).clip(upper=THRESHOLD)\n",
    "\n",
    "        new_df = new_df.reset_index()\n",
    "\n",
    "        self.new_df = new_df\n",
    "           \n",
    "    def generate(self):\n",
    "        try:\n",
    "            #while self.video.isOpened():\n",
    "            for _ in tqdm(range(int(self.video.get(cv2.CAP_PROP_FRAME_COUNT)))):\n",
    "                self.FRAME_COUNT += 1\n",
    "                ret_val, frame = self.video.read()\n",
    "                centroid = None\n",
    "                ## OPENCV \n",
    "                arr = self.new_df.iloc[self.FRAME_COUNT, 2]\n",
    "                if len(arr)>3:\n",
    "                    temp = re.findall(r'\\d+', arr)\n",
    "                    temp = [t for t in temp if len(t)<=4]\n",
    "                    temp = list(map(int, temp))\n",
    "\n",
    "                    for ind in range(len(temp)//4):\n",
    "                        ind = ind * 4\n",
    "                        bbox = temp[ind] , temp[ind+1] , temp[ind+2] , temp[ind+3] \n",
    "                        start_point = (  int(bbox[0]* CONFIG.WRATIO ) , int(bbox[1] * CONFIG.HRATIO)  )\n",
    "                        end_point = (int(bbox[2]* CONFIG.WRATIO), int(bbox[3]* CONFIG.HRATIO ) )\n",
    "                        image = cv2.rectangle(frame, start_point, end_point, CONFIG.OCV_COLOR, 1)\n",
    "                        centroid = ( int(bbox[0] +(bbox[2]-bbox[0])/2), int(bbox[1] + (bbox[3]-bbox[1])/2))\n",
    "                        centroid = (int(centroid[0] * CONFIG.HRATIO) , int(centroid[1] *  CONFIG.WRATIO))\n",
    "                        image = cv2.circle(frame, centroid, 5, CONFIG.OCV_COLOR, 2)\n",
    "\n",
    "                ## CNN \n",
    "                arr = self.new_df.iloc[self.FRAME_COUNT, 3]\n",
    "                if len(arr)>3:\n",
    "                    temp = re.findall(r'\\d+', arr)\n",
    "                    temp = [t for t in temp if len(t)<=4]\n",
    "                    temp = list(map(int, temp))\n",
    "                    for ind in range(len(temp)//4):\n",
    "                        ind = ind * 4\n",
    "                        bbox = temp[ind] , temp[ind+1] , temp[ind+2] , temp[ind+3]\n",
    "                        start_point = (  int(bbox[0]* CONFIG.WRATIO ) , int(bbox[1] * CONFIG.HRATIO)  )\n",
    "                        end_point = (int(bbox[2]* CONFIG.WRATIO), int(bbox[3]* CONFIG.HRATIO ) )\n",
    "                        image = cv2.rectangle(frame, start_point, end_point, CONFIG.CNN_COLOR, 1)\n",
    "                        centroid = ( int(bbox[0] +(bbox[2]-bbox[0])/2), int(bbox[1] + (bbox[3]-bbox[1])/2))\n",
    "                        centroid = (int(centroid[0] * CONFIG.HRATIO) , int(centroid[1] *  CONFIG.WRATIO))\n",
    "                        image = cv2.circle(frame, centroid, 5, CONFIG.CNN_COLOR, 2)\n",
    "\n",
    "                ## TRACKER \n",
    "                arr = self.new_df.iloc[self.FRAME_COUNT, 10]\n",
    "                if len(arr)>3:\n",
    "                    temp = re.findall(r'\\d+', arr)\n",
    "                    temp = [t for t in temp if len(t)<=4]\n",
    "                    temp = list(map(int, temp))\n",
    "                    for ind in range(len(temp)//4):\n",
    "                        ind = ind * 4\n",
    "                        bbox = temp[ind] , temp[ind+1] , temp[ind+2] , temp[ind+3] \n",
    "                        start_point = (  int(bbox[0]* CONFIG.WRATIO ) , int(bbox[1] * CONFIG.HRATIO)  )\n",
    "                        end_point = (int(bbox[2]* CONFIG.WRATIO), int(bbox[3]* CONFIG.HRATIO ) )\n",
    "                        image = cv2.rectangle(frame, start_point, end_point, CONFIG.TRK_COLOR, 1)\n",
    "                        centroid = ( int(bbox[0] +(bbox[2]-bbox[0])/2), int(bbox[1] + (bbox[3]-bbox[1])/2))\n",
    "                        centroid = (int(centroid[0] * CONFIG.HRATIO) , int(centroid[1] *  CONFIG.WRATIO))\n",
    "                        image = cv2.circle(frame, centroid, 5, CONFIG.TRK_COLOR, 2)\n",
    "\n",
    "\n",
    "\n",
    "                plot  = self.new_df[self.FRAME_COUNT-20:self.FRAME_COUNT+20].plot(\"index\", [ 'Vertical', 'SPEED', 'POSE_50', 'SUI_50', 'SPLASH', 'ACTIND'], ylim=(0,110), xlabel='FRAME COUNT',figsize=(10, 6))\n",
    "\n",
    "                vertical = self.new_df.iloc[self.FRAME_COUNT,4]\n",
    "                SPEED    = 0\n",
    "                POSE     = 0\n",
    "                SUI      = 0\n",
    "                SPLASH   = 0\n",
    "                ACTIND   = 0\n",
    "                DROWN    = False\n",
    "                if str(vertical)!='nan':\n",
    "                    SPEED  = self.new_df.iloc[self.FRAME_COUNT,5] \n",
    "                    POSE   = self.new_df.iloc[self.FRAME_COUNT,6]\n",
    "                    SUI    = self.new_df.iloc[self.FRAME_COUNT,7]\n",
    "                    SPLASH = self.new_df.iloc[self.FRAME_COUNT,8]\n",
    "                    ACTIND = self.new_df.iloc[self.FRAME_COUNT,9]\n",
    "                    DROWN  = self.new_df.iloc[self.FRAME_COUNT,10]\n",
    "                else:\n",
    "                    vertical = 0\n",
    "\n",
    "\n",
    "                color  = (0, 255, 0)\n",
    "                fontscale = 0.5\n",
    "                thickness = 1\n",
    "                image = cv2.putText(frame, 'Vertical :' + str(vertical)[:5] , (20, 30), cv2.FONT_HERSHEY_SIMPLEX, fontscale,   color, thickness,  cv2.LINE_AA)\n",
    "                image = cv2.putText(frame, 'SPEED   :' + str(SPEED)[:5]  , (20, 70), cv2.FONT_HERSHEY_SIMPLEX, fontscale,   color, thickness,  cv2.LINE_AA)\n",
    "                image = cv2.putText(frame, 'POSE    :' + str(POSE)[:5]  , (20, 110), cv2.FONT_HERSHEY_SIMPLEX, fontscale,   color, thickness,  cv2.LINE_AA)\n",
    "                image = cv2.putText(frame, 'SUI      :' + str(SUI)[:5]  , (20, 150), cv2.FONT_HERSHEY_SIMPLEX, fontscale,   color,  thickness,  cv2.LINE_AA)\n",
    "                image = cv2.putText(frame, 'SPLASH  :' + str(SPLASH)[:5]  , (20, 190), cv2.FONT_HERSHEY_SIMPLEX, fontscale,   color, thickness,  cv2.LINE_AA)\n",
    "                image = cv2.putText(frame, 'ACTIND   :' + str(ACTIND)[:5]  , (20, 240), cv2.FONT_HERSHEY_SIMPLEX, fontscale,   color, thickness,  cv2.LINE_AA)\n",
    "                image = cv2.putText(frame, 'DROWN   :' + str(DROWN)[:5]  , (640, 80), cv2.FONT_HERSHEY_SIMPLEX, fontscale,   color, thickness,  cv2.LINE_AA)\n",
    "                image = cv2.putText(frame, 'FRAME   :' + str(self.FRAME_COUNT)  , (640, 130), cv2.FONT_HERSHEY_SIMPLEX, fontscale,   color, thickness,  cv2.LINE_AA)\n",
    "\n",
    "\n",
    "                image = cv2.putText(frame, \"HS_min  = 15  \"  , (1000, 30), cv2.FONT_HERSHEY_SIMPLEX, fontscale,   color, thickness,  cv2.LINE_AA)\n",
    "                image = cv2.putText(frame, \"PO_min  = 1   \"  , (1000, 70), cv2.FONT_HERSHEY_SIMPLEX, fontscale,   color, thickness,  cv2.LINE_AA)\n",
    "                image = cv2.putText(frame, \"SP_max  = 150 \"  , (1000, 110), cv2.FONT_HERSHEY_SIMPLEX, fontscale,   color, thickness,  cv2.LINE_AA)\n",
    "                image = cv2.putText(frame, \"VS_min  = 15  \"  , (1000, 150), cv2.FONT_HERSHEY_SIMPLEX, fontscale,   color,  thickness,  cv2.LINE_AA)\n",
    "                image = cv2.putText(frame, \"AI_min  = 3.5 \"  , (1000, 190), cv2.FONT_HERSHEY_SIMPLEX, fontscale,   color, thickness,  cv2.LINE_AA)\n",
    "                image = cv2.putText(frame, \"SI_min  = 3.5 \"  , (1000, 240), cv2.FONT_HERSHEY_SIMPLEX, fontscale,   color, thickness,  cv2.LINE_AA)\n",
    "                image = cv2.putText(frame, \"ACT_MIN  = 2   \"  , (1000, 270), cv2.FONT_HERSHEY_SIMPLEX, fontscale,   color, thickness,  cv2.LINE_AA)\n",
    "\n",
    "                image = cv2.putText(frame, 'CNN BBOX   :' + \" GREEEN \"  , (20,280), cv2.FONT_HERSHEY_SIMPLEX, fontscale, color, thickness, cv2.LINE_AA)\n",
    "                image = cv2.putText(frame, 'OPENCV BBOX   :' + \"RED\" , (20,310), cv2.FONT_HERSHEY_SIMPLEX, fontscale, color, thickness, cv2.LINE_AA)\n",
    "                image = cv2.putText(frame, 'Tracker BBOX   :' + \"BLUE\" , (20,330), cv2.FONT_HERSHEY_SIMPLEX, fontscale, color, thickness, cv2.LINE_AA)\n",
    "\n",
    "                plt.axvline(x=self.FRAME_COUNT)\n",
    "                fig = plot.get_figure()\n",
    "                #fig.legend(loc=1)\n",
    "                fig.savefig(\"output.png\")\n",
    "                img = cv2.cvtColor(cv2.imread('output.png'), cv2.COLOR_BGR2RGB)\n",
    "                img = cv2.resize(img, (frame.shape[1],frame.shape[0]))\n",
    "                image = cv2.resize(image, (frame.shape[1],frame.shape[0]))\n",
    "                im_v = cv2.vconcat([image, img])\n",
    "                #cv2.imwrite(\"COMBI.png\", im_v)\n",
    "                self.analysis_feed.write(im_v)\n",
    "                plt.close(fig)\n",
    "                del plot,fig,img,im_v\n",
    "                \n",
    "                if self.FRAME_COUNT == 249:\n",
    "                    break\n",
    "        except Exception as e:\n",
    "            os.remove('output.png')\n",
    "            print(\"adskjv\")\n",
    "            print(traceback.format_exc())\n",
    "            self.analysis_feed.release()\n",
    "        self.analysis_feed.release()"
   ]
  },
  {
   "cell_type": "code",
   "execution_count": 4,
   "id": "9b0190cd",
   "metadata": {},
   "outputs": [
    {
     "name": "stdout",
     "output_type": "stream",
     "text": [
      "Video opened sucessfully..\n"
     ]
    }
   ],
   "source": [
    "v1 = Analytics(name, mode=2)"
   ]
  },
  {
   "cell_type": "code",
   "execution_count": 5,
   "id": "7265b177",
   "metadata": {},
   "outputs": [],
   "source": [
    "v1.get_data()\n",
    "v1.create_df()"
   ]
  },
  {
   "cell_type": "code",
   "execution_count": 7,
   "id": "f2445e35",
   "metadata": {
    "scrolled": true
   },
   "outputs": [
    {
     "name": "stderr",
     "output_type": "stream",
     "text": [
      " 99%|███████████████████████████████████████████████████████████████████████████████████████████████████████████████████████████████████████████████████████████████████▋ | 248/250 [00:43<00:00,  5.67it/s]\n"
     ]
    }
   ],
   "source": [
    "v1.generate()"
   ]
  },
  {
   "cell_type": "code",
   "execution_count": null,
   "id": "48c0e0c7",
   "metadata": {},
   "outputs": [],
   "source": []
  }
 ],
 "metadata": {
  "kernelspec": {
   "display_name": "Python 3 (ipykernel)",
   "language": "python",
   "name": "python3"
  },
  "language_info": {
   "codemirror_mode": {
    "name": "ipython",
    "version": 3
   },
   "file_extension": ".py",
   "mimetype": "text/x-python",
   "name": "python",
   "nbconvert_exporter": "python",
   "pygments_lexer": "ipython3",
   "version": "3.7.11"
  }
 },
 "nbformat": 4,
 "nbformat_minor": 5
}
