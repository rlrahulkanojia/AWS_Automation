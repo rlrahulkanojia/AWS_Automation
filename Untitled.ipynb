{
 "cells": [
  {
   "cell_type": "code",
   "execution_count": 1,
   "id": "7433a7b7",
   "metadata": {
    "ExecuteTime": {
     "end_time": "2022-03-21T09:09:53.852238Z",
     "start_time": "2022-03-21T09:09:51.547920Z"
    },
    "code_folding": [
     0
    ]
   },
   "outputs": [],
   "source": [
    "# Imports\n",
    "import os\n",
    "import matplotlib.pyplot as plt\n",
    "import pandas as pd\n",
    "import numpy as np\n",
    "import json\n",
    "import re\n",
    "import cv2\n",
    "import argparse"
   ]
  },
  {
   "cell_type": "code",
   "execution_count": 2,
   "id": "b23dd7ad",
   "metadata": {
    "ExecuteTime": {
     "end_time": "2022-03-21T09:09:53.889394Z",
     "start_time": "2022-03-21T09:09:53.856902Z"
    },
    "code_folding": []
   },
   "outputs": [],
   "source": [
    "#BGR \n",
    "cnn_color     =  (0,255,0)\n",
    "opencv_color  =  (0,0,255)   \n",
    "tracker_color =  (255,0,0)\n",
    "HRATIO        =  1#frame.shape[0] / HEIGHT\n",
    "WRATIO        =  1#frame.shape[1] / WIDTH\n",
    "fourcc        =  cv2.VideoWriter_fourcc(*'XVID')\n",
    "\n",
    "# parser = argparse.ArgumentParser()\n",
    "# parser.add_argument(\"--name\")\n",
    "# value = parser.parse_args()\n",
    "\n",
    "\n",
    "# name = files.split('.')[0]\n",
    "name = \"00b5a2d0-8574-4ae7-9147-fb64f085c295\"\n",
    "video_path = 'input/'+name+'.mp4'\n",
    "json_path  = 'jsons/'+name+'.json'\n",
    "\n",
    "f = open(json_path).readlines()\n",
    "data = json.loads('{'+ f[0][10:-2])\n",
    "# data = json.load(f)\n",
    "new_df = pd.DataFrame(columns=['FRAME_COUNT', 'OPEN_BOX', 'CNN_BOX','Vertical', 'SPEED', 'POSE', 'SUI', 'SPLASH', 'ACTIND', 'TBBOX', 'ALARM'])\n",
    "\n"
   ]
  },
  {
   "cell_type": "code",
   "execution_count": 3,
   "id": "bf33e399",
   "metadata": {
    "ExecuteTime": {
     "end_time": "2022-03-21T09:09:53.940933Z",
     "start_time": "2022-03-21T09:09:53.895607Z"
    }
   },
   "outputs": [],
   "source": [
    "df = pd.read_csv('test.csv')\n",
    "tt = df[1:2]['Additional Info'].values[0]"
   ]
  },
  {
   "cell_type": "code",
   "execution_count": null,
   "id": "8516416f",
   "metadata": {
    "ExecuteTime": {
     "end_time": "2022-03-17T20:19:34.468314Z",
     "start_time": "2022-03-17T20:19:34.461198Z"
    },
    "code_folding": []
   },
   "outputs": [],
   "source": [
    "# !wget https://camerye-cloudserver.s3-us-west-2.amazonaws.com/assets/00:04:4b:ea:53:00/events/7750077.mp4"
   ]
  },
  {
   "cell_type": "code",
   "execution_count": null,
   "id": "eb74f033",
   "metadata": {
    "ExecuteTime": {
     "end_time": "2022-03-17T20:18:15.456647Z",
     "start_time": "2022-03-17T20:18:15.446187Z"
    }
   },
   "outputs": [],
   "source": [
    "# df[1:2]['Video Link'].values[0]"
   ]
  },
  {
   "cell_type": "code",
   "execution_count": 4,
   "id": "a0e2b12e",
   "metadata": {
    "ExecuteTime": {
     "end_time": "2022-03-21T09:09:55.631072Z",
     "start_time": "2022-03-21T09:09:55.461218Z"
    }
   },
   "outputs": [
    {
     "name": "stdout",
     "output_type": "stream",
     "text": [
      "9498807.mp4       BatherLoad.ipynb  \u001b[34minput\u001b[m\u001b[m/            requirements.txt\r\n",
      "AWSCLIV2.pkg      Readme.md         \u001b[34mjsons\u001b[m\u001b[m/            test.csv\r\n",
      "\u001b[34mAnalysisOutput\u001b[m\u001b[m/   Untitled.ipynb    main_script.py\r\n"
     ]
    }
   ],
   "source": [
    "ls"
   ]
  },
  {
   "cell_type": "code",
   "execution_count": 5,
   "id": "823e5a8b",
   "metadata": {
    "ExecuteTime": {
     "end_time": "2022-03-21T09:09:56.048974Z",
     "start_time": "2022-03-21T09:09:56.038418Z"
    }
   },
   "outputs": [],
   "source": [
    "data = json.loads('{'+ [tt][0][10:-2]) "
   ]
  },
  {
   "cell_type": "code",
   "execution_count": 6,
   "id": "243ee617",
   "metadata": {
    "ExecuteTime": {
     "end_time": "2022-03-21T09:09:58.636406Z",
     "start_time": "2022-03-21T09:09:57.420604Z"
    }
   },
   "outputs": [],
   "source": [
    "ind = 0\n",
    "for key in data.keys():\n",
    "    D = data[key]\n",
    "    T = json.loads(D['TRACKERS_DATA'])\n",
    "    for key in list(T.keys()):\n",
    "        T = json.loads(D['TRACKERS_DATA'])[key]\n",
    "        new_df.loc[ind] = [str(D['FRAME_COUNT'])] +  [str(D['OPEN_BOX'])] + [str( D['CNN_BOX'])] + [str(T['VERTICAL'])] + [str(T['SPEED'])] + [str(T['POSE'])] + \\\n",
    "                        [str(T['SUI'])] + [str(T['SPLASH'])] + [str(T['ACTIND'])] + [str(T['BBOX'])] + [str(T['ALARM'])]\n",
    "\n",
    "        ind += 1\n",
    "    if len(T.keys())==0:\n",
    "        new_df.loc[ind] = [str(D['FRAME_COUNT'])] +  [str(D['OPEN_BOX'])] + [str( D['CNN_BOX'])]\\\n",
    "                        + [\"\"] + [\"\"] +  [\"\"]  +  [\"\"] + [\"\"] + [\"\"] + [\"\"]+ [\"\"]\n",
    "        ind += 1\n",
    "        \n",
    "del ind"
   ]
  },
  {
   "cell_type": "code",
   "execution_count": null,
   "id": "8ed928b8",
   "metadata": {
    "ExecuteTime": {
     "end_time": "2022-03-17T20:19:46.660888Z",
     "start_time": "2022-03-17T20:19:46.616622Z"
    }
   },
   "outputs": [],
   "source": [
    "new_df[120:160]"
   ]
  },
  {
   "cell_type": "code",
   "execution_count": null,
   "id": "f76bdcfa",
   "metadata": {
    "ExecuteTime": {
     "end_time": "2022-03-17T20:19:55.915323Z",
     "start_time": "2022-03-17T20:19:55.892058Z"
    }
   },
   "outputs": [],
   "source": [
    "new_df[new_df['FRAME_COUNT']=='516894']"
   ]
  },
  {
   "cell_type": "code",
   "execution_count": null,
   "id": "904ce924",
   "metadata": {},
   "outputs": [],
   "source": [
    "# 204639': {'FRAME_COUNT': 204639,\n",
    "#   'OPEN_BOX': '[[77, 327, 331, 720], [348, 282, 410, 378], [319, 389, 353, 558]]',\n",
    "#   'CNN_BOX': '[[64.1875, 315.75, 271.5, 703.5]]',\n",
    "#   'TRACKERS_DATA': '{}'},"
   ]
  },
  {
   "cell_type": "code",
   "execution_count": null,
   "id": "0ab48946",
   "metadata": {},
   "outputs": [],
   "source": []
  },
  {
   "cell_type": "code",
   "execution_count": null,
   "id": "aa20fc6a",
   "metadata": {
    "ExecuteTime": {
     "end_time": "2022-03-17T20:20:00.160954Z",
     "start_time": "2022-03-17T20:20:00.133880Z"
    }
   },
   "outputs": [],
   "source": [
    "THRESHOLD = 100\n",
    "new_df['Vertical'] = pd.to_numeric(new_df['Vertical']).clip(upper=THRESHOLD)\n",
    "new_df['SPEED']    = pd.to_numeric(new_df['SPEED']).clip(upper=THRESHOLD)\n",
    "new_df['POSE_50']  = pd.to_numeric(new_df['POSE']) * 50 \n",
    "new_df['SUI_50']   = pd.to_numeric(new_df['SUI']) * 50\n",
    "new_df['SPLASH']   = pd.to_numeric(new_df['SPLASH']).clip(upper=THRESHOLD)\n",
    "new_df['ACTIND']   = pd.to_numeric(new_df['ACTIND']).clip(upper=THRESHOLD)"
   ]
  },
  {
   "cell_type": "code",
   "execution_count": null,
   "id": "ad3593b5",
   "metadata": {
    "ExecuteTime": {
     "end_time": "2022-03-17T20:20:00.645411Z",
     "start_time": "2022-03-17T20:20:00.637946Z"
    }
   },
   "outputs": [],
   "source": [
    "new_df = new_df.reset_index()"
   ]
  },
  {
   "cell_type": "code",
   "execution_count": null,
   "id": "2d435402",
   "metadata": {
    "ExecuteTime": {
     "end_time": "2022-03-17T20:23:19.433059Z",
     "start_time": "2022-03-17T20:23:19.142542Z"
    }
   },
   "outputs": [],
   "source": [
    "video = cv2.VideoCapture('7750077.mp4')\n",
    "FRAME_COUNT = 0\n",
    "while video.isOpened():\n",
    "    ret, frame = video.read()\n",
    "    FRAME_COUNT += 1\n",
    "    if FRAME_COUNT == 139:\n",
    "        break"
   ]
  },
  {
   "cell_type": "code",
   "execution_count": null,
   "id": "1670ce11",
   "metadata": {
    "ExecuteTime": {
     "end_time": "2022-03-17T20:23:20.601712Z",
     "start_time": "2022-03-17T20:23:20.253482Z"
    }
   },
   "outputs": [],
   "source": [
    "plt.imshow(frame)"
   ]
  },
  {
   "cell_type": "code",
   "execution_count": null,
   "id": "6db20fda",
   "metadata": {
    "ExecuteTime": {
     "end_time": "2022-03-17T20:23:26.438070Z",
     "start_time": "2022-03-17T20:23:26.429348Z"
    }
   },
   "outputs": [],
   "source": [
    "FRAME_COUNT"
   ]
  },
  {
   "cell_type": "code",
   "execution_count": null,
   "id": "89b7e73d",
   "metadata": {
    "ExecuteTime": {
     "end_time": "2022-03-17T20:11:09.877386Z",
     "start_time": "2022-03-17T20:11:09.345163Z"
    },
    "code_folding": [
     12,
     29,
     45,
     70,
     77
    ]
   },
   "outputs": [],
   "source": [
    "\n",
    "\n",
    "video = cv2.VideoCapture(video_path)\n",
    "analysis_feed  = cv2.VideoWriter(\"AnalysisOutput/\"+ name+ \".mp4\",fourcc, 5, (1280,720*2))\n",
    "FRAME_COUNT = 0\n",
    "try:\n",
    "    while video.isOpened():\n",
    "        FRAME_COUNT += 1\n",
    "        ret_val, frame = video.read()\n",
    "        centroid = None\n",
    "        ## OPENCV \n",
    "        arr = new_df.iloc[FRAME_COUNT, 2]\n",
    "        if len(arr)>3:\n",
    "            temp = re.findall(r'\\d+', arr)\n",
    "            temp = [t for t in temp if len(t)<=4]\n",
    "            temp = list(map(int, temp))\n",
    "\n",
    "            for ind in range(len(temp)//4):\n",
    "                ind = ind * 4\n",
    "                bbox = temp[ind] , temp[ind+1] , temp[ind+2] , temp[ind+3] \n",
    "                start_point = (  int(bbox[0]*WRATIO ) , int(bbox[1] * HRATIO)  )\n",
    "                end_point = (int(bbox[2]*WRATIO), int(bbox[3]* HRATIO ) )\n",
    "                image = cv2.rectangle(frame, start_point, end_point, opencv_color, 1)\n",
    "                centroid = ( int(bbox[0] +(bbox[2]-bbox[0])/2), int(bbox[1] + (bbox[3]-bbox[1])/2))\n",
    "                centroid = (int(centroid[0] * HRATIO) , int(centroid[1] * WRATIO))\n",
    "                image = cv2.circle(frame, centroid, 5, opencv_color, 2)\n",
    "\n",
    "        ## CNN \n",
    "        arr = new_df.iloc[FRAME_COUNT, 3]\n",
    "        if len(arr)>3:\n",
    "            temp = re.findall(r'\\d+', arr)\n",
    "            temp = [t for t in temp if len(t)<=4]\n",
    "            temp = list(map(int, temp))\n",
    "            for ind in range(len(temp)//4):\n",
    "                ind = ind * 4\n",
    "                bbox = temp[ind] , temp[ind+1] , temp[ind+2] , temp[ind+3]\n",
    "                start_point = (  int(bbox[0]*WRATIO ) , int(bbox[1] * HRATIO)  )\n",
    "                end_point = (int(bbox[2]*WRATIO), int(bbox[3]* HRATIO ) )\n",
    "                image = cv2.rectangle(frame, start_point, end_point, cnn_color, 1)\n",
    "                centroid = ( int(bbox[0] +(bbox[2]-bbox[0])/2), int(bbox[1] + (bbox[3]-bbox[1])/2))\n",
    "                centroid = (int(centroid[0] * HRATIO) , int(centroid[1] * WRATIO))\n",
    "                image = cv2.circle(frame, centroid, 5, cnn_color, 2)\n",
    "\n",
    "        ## TRACKER \n",
    "        arr = new_df.iloc[FRAME_COUNT, 10]\n",
    "        if len(arr)>3:\n",
    "            temp = re.findall(r'\\d+', arr)\n",
    "            temp = [t for t in temp if len(t)<=4]\n",
    "            temp = list(map(int, temp))\n",
    "            for ind in range(len(temp)//4):\n",
    "                ind = ind * 4\n",
    "                bbox = temp[ind] , temp[ind+1] , temp[ind+2] , temp[ind+3] \n",
    "                start_point = (  int(bbox[0]*WRATIO ) , int(bbox[1] * HRATIO)  )\n",
    "                end_point = (int(bbox[2]*WRATIO), int(bbox[3]* HRATIO ) )\n",
    "                image = cv2.rectangle(frame, start_point, end_point, tracker_color, 1)\n",
    "                centroid = ( int(bbox[0] +(bbox[2]-bbox[0])/2), int(bbox[1] + (bbox[3]-bbox[1])/2))\n",
    "                centroid = (int(centroid[0] * HRATIO) , int(centroid[1] * WRATIO))\n",
    "                image = cv2.circle(frame, centroid, 5, tracker_color, 2)\n",
    "\n",
    "\n",
    "\n",
    "        plot  = new_df[FRAME_COUNT-20:FRAME_COUNT+20].plot(\"index\", [ 'Vertical', 'SPEED', 'POSE_50', 'SUI_50', 'SPLASH', 'ACTIND'], ylim=(0,110), xlabel='FRAME COUNT',figsize=(10, 6))\n",
    "\n",
    "        vertical = new_df.iloc[FRAME_COUNT,4]\n",
    "        SPEED    = 0\n",
    "        POSE     = 0\n",
    "        SUI      = 0\n",
    "        SPLASH   = 0\n",
    "        ACTIND   = 0\n",
    "        DROWN    = False\n",
    "        if str(vertical)!='nan':\n",
    "            SPEED  = new_df.iloc[FRAME_COUNT,5] \n",
    "            POSE   = new_df.iloc[FRAME_COUNT,6]\n",
    "            SUI    = new_df.iloc[FRAME_COUNT,7]\n",
    "            SPLASH = new_df.iloc[FRAME_COUNT,8]\n",
    "            ACTIND = new_df.iloc[FRAME_COUNT,9]\n",
    "            DROWN  = new_df.iloc[FRAME_COUNT,10]\n",
    "        else:\n",
    "            vertical = 0\n",
    "\n",
    "\n",
    "        color  = (0, 255, 0)\n",
    "        fontscale = 0.5\n",
    "        thickness = 1\n",
    "        image = cv2.putText(frame, 'Vertical :' + str(vertical)[:5] , (20, 30), cv2.FONT_HERSHEY_SIMPLEX, fontscale,   color, thickness,  cv2.LINE_AA)\n",
    "        image = cv2.putText(frame, 'SPEED   :' + str(SPEED)[:5]  , (20, 70), cv2.FONT_HERSHEY_SIMPLEX, fontscale,   color, thickness,  cv2.LINE_AA)\n",
    "        image = cv2.putText(frame, 'POSE    :' + str(POSE)[:5]  , (20, 110), cv2.FONT_HERSHEY_SIMPLEX, fontscale,   color, thickness,  cv2.LINE_AA)\n",
    "        image = cv2.putText(frame, 'SUI      :' + str(SUI)[:5]  , (20, 150), cv2.FONT_HERSHEY_SIMPLEX, fontscale,   color,  thickness,  cv2.LINE_AA)\n",
    "        image = cv2.putText(frame, 'SPLASH  :' + str(SPLASH)[:5]  , (20, 190), cv2.FONT_HERSHEY_SIMPLEX, fontscale,   color, thickness,  cv2.LINE_AA)\n",
    "        image = cv2.putText(frame, 'ACTIND   :' + str(ACTIND)[:5]  , (20, 240), cv2.FONT_HERSHEY_SIMPLEX, fontscale,   color, thickness,  cv2.LINE_AA)\n",
    "        image = cv2.putText(frame, 'DROWN   :' + str(DROWN)[:5]  , (640, 80), cv2.FONT_HERSHEY_SIMPLEX, fontscale,   color, thickness,  cv2.LINE_AA)\n",
    "        image = cv2.putText(frame, 'FRAME   :' + str(FRAME_COUNT)  , (640, 130), cv2.FONT_HERSHEY_SIMPLEX, fontscale,   color, thickness,  cv2.LINE_AA)\n",
    "\n",
    "\n",
    "        image = cv2.putText(frame, \"HS_min  = 15  \"  , (1000, 30), cv2.FONT_HERSHEY_SIMPLEX, fontscale,   color, thickness,  cv2.LINE_AA)\n",
    "        image = cv2.putText(frame, \"PO_min  = 1   \"  , (1000, 70), cv2.FONT_HERSHEY_SIMPLEX, fontscale,   color, thickness,  cv2.LINE_AA)\n",
    "        image = cv2.putText(frame, \"SP_max  = 150 \"  , (1000, 110), cv2.FONT_HERSHEY_SIMPLEX, fontscale,   color, thickness,  cv2.LINE_AA)\n",
    "        image = cv2.putText(frame, \"VS_min  = 15  \"  , (1000, 150), cv2.FONT_HERSHEY_SIMPLEX, fontscale,   color,  thickness,  cv2.LINE_AA)\n",
    "        image = cv2.putText(frame, \"AI_min  = 3.5 \"  , (1000, 190), cv2.FONT_HERSHEY_SIMPLEX, fontscale,   color, thickness,  cv2.LINE_AA)\n",
    "        image = cv2.putText(frame, \"SI_min  = 3.5 \"  , (1000, 240), cv2.FONT_HERSHEY_SIMPLEX, fontscale,   color, thickness,  cv2.LINE_AA)\n",
    "        image = cv2.putText(frame, \"ACT_MIN  = 2   \"  , (1000, 270), cv2.FONT_HERSHEY_SIMPLEX, fontscale,   color, thickness,  cv2.LINE_AA)\n",
    "\n",
    "        image = cv2.putText(frame, 'CNN BBOX   :' + \" GREEEN \"  , (20,280), cv2.FONT_HERSHEY_SIMPLEX, fontscale, color, thickness, cv2.LINE_AA)\n",
    "        image = cv2.putText(frame, 'OPENCV BBOX   :' + \"RED\" , (20,310), cv2.FONT_HERSHEY_SIMPLEX, fontscale, color, thickness, cv2.LINE_AA)\n",
    "        image = cv2.putText(frame, 'Tracker BBOX   :' + \"BLUE\" , (20,330), cv2.FONT_HERSHEY_SIMPLEX, fontscale, color, thickness, cv2.LINE_AA)\n",
    "\n",
    "        plt.axvline(x=FRAME_COUNT)\n",
    "        fig = plot.get_figure()\n",
    "        #fig.legend(loc=1)\n",
    "        fig.savefig(\"output.png\")\n",
    "        img = cv2.cvtColor(cv2.imread('output.png'), cv2.COLOR_BGR2RGB)\n",
    "        img = cv2.resize(img, (1280, 720))\n",
    "        image = cv2.resize(image, (1280, 720))\n",
    "        im_v = cv2.vconcat([image, img])\n",
    "        #cv2.imwrite(\"COMBI.png\", im_v)\n",
    "        analysis_feed.write(im_v)\n",
    "        del plot,fig,img,im_v\n",
    "\n",
    "except Exception as e:\n",
    "    os.remove('output.png')\n",
    "    print(\"ERROR \", e)\n",
    "    analysis_feed.release()\n",
    "analysis_feed.release()\n",
    "\n"
   ]
  },
  {
   "cell_type": "code",
   "execution_count": null,
   "id": "9dd78139",
   "metadata": {},
   "outputs": [],
   "source": []
  }
 ],
 "metadata": {
  "kernelspec": {
   "display_name": "Python 3 (ipykernel)",
   "language": "python",
   "name": "python3"
  },
  "language_info": {
   "codemirror_mode": {
    "name": "ipython",
    "version": 3
   },
   "file_extension": ".py",
   "mimetype": "text/x-python",
   "name": "python",
   "nbconvert_exporter": "python",
   "pygments_lexer": "ipython3",
   "version": "3.7.11"
  }
 },
 "nbformat": 4,
 "nbformat_minor": 5
}
